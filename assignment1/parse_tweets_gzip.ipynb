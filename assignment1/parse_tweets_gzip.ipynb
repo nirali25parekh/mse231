{
 "cells": [
  {
   "cell_type": "code",
   "execution_count": 3,
   "metadata": {},
   "outputs": [],
   "source": [
    "import json\n",
    "import sys\n",
    "import gzip\n",
    "from datetime import datetime\n",
    "import pandas as pd"
   ]
  },
  {
   "cell_type": "markdown",
   "metadata": {},
   "source": [
    "## Extracting Fields"
   ]
  },
  {
   "cell_type": "code",
   "execution_count": null,
   "metadata": {},
   "outputs": [
    {
     "name": "stdout",
     "output_type": "stream",
     "text": [
      "1000 done!\n",
      "2000 done!\n",
      "3000 done!\n",
      "4000 done!\n",
      "5000 done!\n",
      "6000 done!\n",
      "7000 done!\n",
      "8000 done!\n",
      "9000 done!\n",
      "10000 done!\n",
      "11000 done!\n",
      "12000 done!\n",
      "13000 done!\n",
      "14000 done!\n",
      "15000 done!\n",
      "16000 done!\n",
      "17000 done!\n",
      "18000 done!\n",
      "19000 done!\n",
      "20000 done!\n",
      "21000 done!\n",
      "22000 done!\n",
      "23000 done!\n",
      "24000 done!\n",
      "25000 done!\n",
      "26000 done!\n",
      "27000 done!\n",
      "28000 done!\n",
      "29000 done!\n",
      "30000 done!\n",
      "31000 done!\n",
      "32000 done!\n",
      "33000 done!\n",
      "34000 done!\n",
      "35000 done!\n",
      "36000 done!\n",
      "37000 done!\n",
      "38000 done!\n",
      "39000 done!\n",
      "40000 done!\n",
      "41000 done!\n",
      "42000 done!\n",
      "43000 done!\n",
      "44000 done!\n",
      "45000 done!\n",
      "46000 done!\n",
      "47000 done!\n",
      "48000 done!\n",
      "49000 done!\n",
      "50000 done!\n",
      "51000 done!\n",
      "52000 done!\n",
      "53000 done!\n",
      "54000 done!\n",
      "55000 done!\n",
      "56000 done!\n",
      "57000 done!\n",
      "58000 done!\n",
      "59000 done!\n",
      "60000 done!\n",
      "61000 done!\n",
      "62000 done!\n",
      "63000 done!\n",
      "64000 done!\n",
      "65000 done!\n",
      "66000 done!\n",
      "67000 done!\n",
      "68000 done!\n",
      "69000 done!\n",
      "70000 done!\n",
      "71000 done!\n",
      "72000 done!\n",
      "73000 done!\n",
      "74000 done!\n",
      "75000 done!\n",
      "76000 done!\n",
      "77000 done!\n",
      "78000 done!\n",
      "79000 done!\n",
      "80000 done!\n",
      "81000 done!\n",
      "82000 done!\n",
      "83000 done!\n",
      "84000 done!\n",
      "85000 done!\n",
      "86000 done!\n",
      "87000 done!\n",
      "88000 done!\n",
      "89000 done!\n",
      "90000 done!\n",
      "91000 done!\n",
      "92000 done!\n",
      "93000 done!\n",
      "94000 done!\n",
      "95000 done!\n",
      "96000 done!\n",
      "97000 done!\n",
      "98000 done!\n",
      "99000 done!\n",
      "100000 done!\n",
      "101000 done!\n",
      "102000 done!\n",
      "103000 done!\n",
      "104000 done!\n",
      "105000 done!\n",
      "106000 done!\n",
      "107000 done!\n",
      "108000 done!\n",
      "109000 done!\n",
      "110000 done!\n",
      "111000 done!\n",
      "112000 done!\n",
      "113000 done!\n",
      "114000 done!\n",
      "115000 done!\n",
      "116000 done!\n",
      "117000 done!\n",
      "118000 done!\n",
      "119000 done!\n",
      "120000 done!\n"
     ]
    }
   ],
   "source": [
    "# file = \"tweets_work_sample.gz\"\n",
    "# file = \"1hourtweet.gz\"\n",
    "# file = \"nirali3.gz\"\n",
    "file = \"24hr_work.gz\"\n",
    "\n",
    "with gzip.open(file,'rb') as fin:   \n",
    "    \n",
    "    count  = 0\n",
    "    df = pd.DataFrame(columns=['date', 'tweet_type', 'tweet_text', \n",
    "                                   'og_author_id', 'og_author_name', 'og_author_desc', 'og_author_username', \n",
    "                                   'tweet_author_id', 'tweet_author_name', 'tweet_author_desc', 'tweet_author_username'])\n",
    "    for tweet in fin:\n",
    "        \n",
    "            \n",
    "        tweet_d = json.loads(tweet)\n",
    "#         print(json.dumps(tweet_dict, indent=4))\n",
    "\n",
    "        created_at = tweet_d['data']['created_at']\n",
    "    \n",
    "#         extract date, hour, minute\n",
    "        date = created_at[0:10]\n",
    "        time = created_at[11:19]\n",
    "\n",
    "        new_datetime = datetime.strptime(date+\" \" +time,'%Y-%m-%d %H:%M:%S')\n",
    "        \n",
    "        \n",
    "        tweet_text = tweet_d['data']['text']\n",
    "        if 'referenced_tweets' in tweet_d['data']:\n",
    "            tweet_type = tweet_d['data']['referenced_tweets'][0]['type']\n",
    "        else:\n",
    "            tweet_type = None\n",
    "            og_author_id = None\n",
    "            og_author_name = None\n",
    "            og_author_desc = None\n",
    "            og_author_username = None\n",
    "            \n",
    "        \n",
    "        tweet_author_id = tweet_d['data']['author_id']\n",
    "\n",
    "        for i in tweet_d['includes']['users']:\n",
    "            if i['id'] == tweet_author_id:\n",
    "                tweet_author_id = i['id']\n",
    "                tweet_author_name = i['name']\n",
    "                tweet_author_desc = i['description']\n",
    "                tweet_author_username = i['username']\n",
    "            elif i['id'] != tweet_author_id:\n",
    "                og_author_id = i['id']\n",
    "                og_author_name = i['name']\n",
    "                og_author_desc = i['description']\n",
    "                og_author_username = i['username']\n",
    "          \n",
    "    \n",
    "        new_row = pd.DataFrame({'datetime' : new_datetime, \n",
    "                        'tweet_type' : tweet_type, \n",
    "                        'tweet_text' : tweet_text,\n",
    "                        'og_author_id' : og_author_id,\n",
    "                        'og_author_name' : og_author_name,\n",
    "                        'og_author_desc' : og_author_desc,\n",
    "                        'og_author_username' : og_author_username,\n",
    "                        'tweet_author_id' : tweet_author_id,\n",
    "                        'tweet_author_name' : tweet_author_name,\n",
    "                        'tweet_author_desc': tweet_author_desc,\n",
    "                        'tweet_author_username': tweet_author_username\n",
    "                       },  index=[0])\n",
    "        df = pd.concat([new_row,df.loc[:]]).reset_index(drop=True)\n",
    "\n",
    "        \n",
    "#         stop at 1000\n",
    "        count += 1\n",
    "        if count % 1000 == 0:\n",
    "            print(count , \"done!\")\n",
    "        # if count == 200:\n",
    "        #     break\n",
    "        \n",
    "        "
   ]
  },
  {
   "cell_type": "code",
   "execution_count": null,
   "metadata": {},
   "outputs": [],
   "source": [
    "df.head(5)"
   ]
  },
  {
   "cell_type": "code",
   "execution_count": null,
   "metadata": {},
   "outputs": [],
   "source": [
    "df.shape"
   ]
  },
  {
   "cell_type": "markdown",
   "metadata": {},
   "source": [
    "## Round time to nearest quarter"
   ]
  },
  {
   "cell_type": "code",
   "execution_count": null,
   "metadata": {
    "scrolled": false
   },
   "outputs": [],
   "source": [
    "# \n",
    "import datetime\n",
    "df['rounded_datetime'] = df['datetime'].apply(lambda dt: datetime.datetime(dt.year, dt.month, dt.day, dt.hour,15*(dt.minute // 15)))\n",
    "df.head(5)"
   ]
  },
  {
   "cell_type": "markdown",
   "metadata": {},
   "source": [
    "## Separate Date and Time"
   ]
  },
  {
   "cell_type": "code",
   "execution_count": null,
   "metadata": {},
   "outputs": [],
   "source": [
    "for d in df['datetime']:\n",
    "    df['date'] = d.date()\n",
    "    df['time'] = d.time()"
   ]
  },
  {
   "cell_type": "code",
   "execution_count": null,
   "metadata": {},
   "outputs": [],
   "source": [
    "df.to_csv('24hourtweets.csv', index = False)"
   ]
  },
  {
   "cell_type": "code",
   "execution_count": null,
   "metadata": {},
   "outputs": [
    {
     "data": {
      "text/plain": [
       "(200, 14)"
      ]
     },
     "execution_count": 178,
     "metadata": {},
     "output_type": "execute_result"
    }
   ],
   "source": [
    "df.shape"
   ]
  },
  {
   "cell_type": "code",
   "execution_count": null,
   "metadata": {},
   "outputs": [],
   "source": []
  }
 ],
 "metadata": {
  "kernelspec": {
   "display_name": "Python 3 (ipykernel)",
   "language": "python",
   "name": "python3"
  },
  "language_info": {
   "codemirror_mode": {
    "name": "ipython",
    "version": 3
   },
   "file_extension": ".py",
   "mimetype": "text/x-python",
   "name": "python",
   "nbconvert_exporter": "python",
   "pygments_lexer": "ipython3",
   "version": "3.9.12"
  },
  "vscode": {
   "interpreter": {
    "hash": "675d343f0bf95c4b2066ba101db93b5709b516a9d515ad2f2f0e3850dc91cdaa"
   }
  }
 },
 "nbformat": 4,
 "nbformat_minor": 2
}
